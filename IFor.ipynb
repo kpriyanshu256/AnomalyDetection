{
 "cells": [
  {
   "cell_type": "code",
   "execution_count": 1,
   "metadata": {},
   "outputs": [],
   "source": [
    "import hdf5storage\n",
    "import numpy as np\n",
    "from sklearn.ensemble import IsolationForest\n",
    "import matplotlib.pyplot as plt\n",
    "import pandas as pd\n",
    "from sklearn.model_selection import train_test_split\n",
    "from sklearn.metrics import confusion_matrix,f1_score,roc_auc_score,classification_report,roc_curve,auc"
   ]
  },
  {
   "cell_type": "code",
   "execution_count": 2,
   "metadata": {},
   "outputs": [],
   "source": [
    "file='http.mat'\n",
    "mat = hdf5storage.loadmat(file)\n",
    "X=pd.DataFrame(mat['X'])\n",
    "y=pd.DataFrame(mat['y'])"
   ]
  },
  {
   "cell_type": "code",
   "execution_count": 3,
   "metadata": {},
   "outputs": [
    {
     "data": {
      "text/html": [
       "<div>\n",
       "<style scoped>\n",
       "    .dataframe tbody tr th:only-of-type {\n",
       "        vertical-align: middle;\n",
       "    }\n",
       "\n",
       "    .dataframe tbody tr th {\n",
       "        vertical-align: top;\n",
       "    }\n",
       "\n",
       "    .dataframe thead th {\n",
       "        text-align: right;\n",
       "    }\n",
       "</style>\n",
       "<table border=\"1\" class=\"dataframe\">\n",
       "  <thead>\n",
       "    <tr style=\"text-align: right;\">\n",
       "      <th></th>\n",
       "      <th>0</th>\n",
       "      <th>1</th>\n",
       "      <th>2</th>\n",
       "    </tr>\n",
       "  </thead>\n",
       "  <tbody>\n",
       "    <tr>\n",
       "      <th>0</th>\n",
       "      <td>-2.302585</td>\n",
       "      <td>5.371103</td>\n",
       "      <td>10.716107</td>\n",
       "    </tr>\n",
       "    <tr>\n",
       "      <th>1</th>\n",
       "      <td>-2.302585</td>\n",
       "      <td>5.088213</td>\n",
       "      <td>8.418058</td>\n",
       "    </tr>\n",
       "    <tr>\n",
       "      <th>2</th>\n",
       "      <td>-2.302585</td>\n",
       "      <td>5.464255</td>\n",
       "      <td>7.113224</td>\n",
       "    </tr>\n",
       "    <tr>\n",
       "      <th>3</th>\n",
       "      <td>-2.302585</td>\n",
       "      <td>5.451468</td>\n",
       "      <td>7.616825</td>\n",
       "    </tr>\n",
       "    <tr>\n",
       "      <th>4</th>\n",
       "      <td>-2.302585</td>\n",
       "      <td>5.476882</td>\n",
       "      <td>6.186414</td>\n",
       "    </tr>\n",
       "  </tbody>\n",
       "</table>\n",
       "</div>"
      ],
      "text/plain": [
       "          0         1          2\n",
       "0 -2.302585  5.371103  10.716107\n",
       "1 -2.302585  5.088213   8.418058\n",
       "2 -2.302585  5.464255   7.113224\n",
       "3 -2.302585  5.451468   7.616825\n",
       "4 -2.302585  5.476882   6.186414"
      ]
     },
     "execution_count": 3,
     "metadata": {},
     "output_type": "execute_result"
    }
   ],
   "source": [
    "X[:5]"
   ]
  },
  {
   "cell_type": "code",
   "execution_count": 4,
   "metadata": {},
   "outputs": [
    {
     "data": {
      "text/html": [
       "<div>\n",
       "<style scoped>\n",
       "    .dataframe tbody tr th:only-of-type {\n",
       "        vertical-align: middle;\n",
       "    }\n",
       "\n",
       "    .dataframe tbody tr th {\n",
       "        vertical-align: top;\n",
       "    }\n",
       "\n",
       "    .dataframe thead th {\n",
       "        text-align: right;\n",
       "    }\n",
       "</style>\n",
       "<table border=\"1\" class=\"dataframe\">\n",
       "  <thead>\n",
       "    <tr style=\"text-align: right;\">\n",
       "      <th></th>\n",
       "      <th>0</th>\n",
       "    </tr>\n",
       "  </thead>\n",
       "  <tbody>\n",
       "    <tr>\n",
       "      <th>0</th>\n",
       "      <td>0.0</td>\n",
       "    </tr>\n",
       "    <tr>\n",
       "      <th>1</th>\n",
       "      <td>0.0</td>\n",
       "    </tr>\n",
       "    <tr>\n",
       "      <th>2</th>\n",
       "      <td>0.0</td>\n",
       "    </tr>\n",
       "    <tr>\n",
       "      <th>3</th>\n",
       "      <td>0.0</td>\n",
       "    </tr>\n",
       "    <tr>\n",
       "      <th>4</th>\n",
       "      <td>0.0</td>\n",
       "    </tr>\n",
       "  </tbody>\n",
       "</table>\n",
       "</div>"
      ],
      "text/plain": [
       "     0\n",
       "0  0.0\n",
       "1  0.0\n",
       "2  0.0\n",
       "3  0.0\n",
       "4  0.0"
      ]
     },
     "execution_count": 4,
     "metadata": {},
     "output_type": "execute_result"
    }
   ],
   "source": [
    "y[:5]"
   ]
  },
  {
   "cell_type": "code",
   "execution_count": 5,
   "metadata": {},
   "outputs": [],
   "source": [
    "def separate(X,y):\n",
    "    data=pd.concat([X,y],axis=1)\n",
    "    data.columns=[0,1,2,3]\n",
    "    normal=data.loc[data[3]==0]\n",
    "    abnormal=data.loc[data[3]==1]\n",
    "    normal.drop([3],axis=1,inplace=True)\n",
    "    abnormal.drop([3],axis=1,inplace=True)\n",
    "    return normal,abnormal"
   ]
  },
  {
   "cell_type": "code",
   "execution_count": 6,
   "metadata": {},
   "outputs": [],
   "source": [
    "def prepare_sets(X,y):\n",
    "    X=np.array(X)\n",
    "    y=np.array(y)\n",
    "    X,X_test,y,y_test=train_test_split(X,y,test_size=0.2)\n",
    "    X_train,X_dev,y_train,y_dev=train_test_split(X,y,test_size=0.25)\n",
    "    return X_train,y_train,X_dev,y_dev,X_test,y_test"
   ]
  },
  {
   "cell_type": "code",
   "execution_count": 7,
   "metadata": {},
   "outputs": [],
   "source": [
    "def model(X):\n",
    "    ifor = IsolationForest(n_estimators=100, max_samples=256,contamination=0.0235)\n",
    "    ifor.fit(X)\n",
    "    return ifor"
   ]
  },
  {
   "cell_type": "code",
   "execution_count": 8,
   "metadata": {},
   "outputs": [],
   "source": [
    "def convert(y):\n",
    "    for i in range(y.shape[0]):\n",
    "        if y[i]==-1:\n",
    "            y[i]=1;\n",
    "        else:\n",
    "            y[i]=0\n",
    "    return y"
   ]
  },
  {
   "cell_type": "code",
   "execution_count": 9,
   "metadata": {},
   "outputs": [],
   "source": [
    "def model_evaluate(ifor,X,y):\n",
    "    y_pred=ifor.predict(X)\n",
    "    y_pred=convert(y_pred)\n",
    "    s= 0.5 - ifor.decision_function(X)\n",
    "    z=roc_auc_score(y,s)\n",
    "    print('Report= ',classification_report(y,y_pred))\n",
    "    print('AUCROC= ',z)\n",
    "    print('F1= ',f1_score(y,y_pred))\n",
    "    print('Confusion matrix= ',confusion_matrix(y,y_pred))"
   ]
  },
  {
   "cell_type": "code",
   "execution_count": 10,
   "metadata": {},
   "outputs": [],
   "source": [
    "def roc_plot(model,X,y):\n",
    "    preds= 0.5 - model.decision_function(X)\n",
    "    fpr, tpr, threshold = roc_curve(y, preds)\n",
    "    roc_auc = auc(fpr, tpr)\n",
    "\n",
    "    plt.title('Receiver Operating Characteristic')\n",
    "    plt.plot(fpr, tpr, 'b', label = 'AUC = %0.2f' % roc_auc)\n",
    "    plt.legend(loc = 'lower right')\n",
    "    plt.plot([0, 1], [0, 1],'r--')\n",
    "    plt.xlim([0, 1])\n",
    "    plt.ylim([0, 1])\n",
    "    plt.ylabel('True Positive Rate')\n",
    "    plt.xlabel('False Positive Rate')\n",
    "    plt.show()"
   ]
  },
  {
   "cell_type": "code",
   "execution_count": 11,
   "metadata": {},
   "outputs": [
    {
     "name": "stderr",
     "output_type": "stream",
     "text": [
      "/home/priyanshu/anaconda3/envs/gpu/lib/python3.6/site-packages/pandas/core/frame.py:3940: SettingWithCopyWarning: \n",
      "A value is trying to be set on a copy of a slice from a DataFrame\n",
      "\n",
      "See the caveats in the documentation: http://pandas.pydata.org/pandas-docs/stable/indexing.html#indexing-view-versus-copy\n",
      "  errors=errors)\n"
     ]
    }
   ],
   "source": [
    "normal,abnormal=separate(X,y)\n",
    "X_train,y_train,X_dev,y_dev,X_test,y_test=prepare_sets(X,y)"
   ]
  },
  {
   "cell_type": "code",
   "execution_count": 12,
   "metadata": {},
   "outputs": [
    {
     "name": "stderr",
     "output_type": "stream",
     "text": [
      "/home/priyanshu/anaconda3/envs/gpu/lib/python3.6/site-packages/sklearn/ensemble/iforest.py:223: FutureWarning: behaviour=\"old\" is deprecated and will be removed in version 0.22. Please use behaviour=\"new\", which makes the decision_function change to match other anomaly detection algorithm API.\n",
      "  FutureWarning)\n"
     ]
    }
   ],
   "source": [
    "ifor=model(X_train)"
   ]
  },
  {
   "cell_type": "code",
   "execution_count": 19,
   "metadata": {},
   "outputs": [],
   "source": [
    "scores_n = 0.5 - ifor.decision_function(normal)"
   ]
  },
  {
   "cell_type": "code",
   "execution_count": 20,
   "metadata": {},
   "outputs": [],
   "source": [
    "scores_ab= 0.5 - ifor.decision_function(abnormal)"
   ]
  },
  {
   "cell_type": "code",
   "execution_count": 21,
   "metadata": {},
   "outputs": [
    {
     "data": {
      "image/png": "[encoded data removed]",
      "text/plain": [
       "<Figure size 432x288 with 1 Axes>"
      ]
     },
     "metadata": {
      "needs_background": "light"
     },
     "output_type": "display_data"
    }
   ],
   "source": [
    "for i in range(1500):\n",
    "        plt.scatter(scores_n[i],0,color='blue',marker='*')\n",
    "for i in range(1500):\n",
    "    plt.scatter(scores_ab[i],1,color='red',marker='*')"
   ]
  },
  {
   "cell_type": "code",
   "execution_count": 16,
   "metadata": {},
   "outputs": [
    {
     "name": "stdout",
     "output_type": "stream",
     "text": [
      "TRAIN\n"
     ]
    },
    {
     "name": "stderr",
     "output_type": "stream",
     "text": [
      "/home/priyanshu/anaconda3/envs/gpu/lib/python3.6/site-packages/sklearn/ensemble/iforest.py:417: DeprecationWarning: threshold_ attribute is deprecated in 0.20 and will be removed in 0.22.\n",
      "  \" be removed in 0.22.\", DeprecationWarning)\n"
     ]
    },
    {
     "name": "stdout",
     "output_type": "stream",
     "text": [
      "Report=                precision    recall  f1-score   support\n",
      "\n",
      "         0.0       1.00      0.98      0.99    339170\n",
      "         1.0       0.17      1.00      0.28      1328\n",
      "\n",
      "   micro avg       0.98      0.98      0.98    340498\n",
      "   macro avg       0.58      0.99      0.64    340498\n",
      "weighted avg       1.00      0.98      0.99    340498\n",
      "\n",
      "AUCROC=  0.9998068393217887\n",
      "F1=  0.2844587352625938\n",
      "Confusion matrix=  [[332495   6675]\n",
      " [     1   1327]]\n"
     ]
    }
   ],
   "source": [
    "print('TRAIN')\n",
    "model_evaluate(ifor,X_train,y_train)"
   ]
  },
  {
   "cell_type": "code",
   "execution_count": 17,
   "metadata": {},
   "outputs": [
    {
     "name": "stdout",
     "output_type": "stream",
     "text": [
      "DEV\n"
     ]
    },
    {
     "name": "stderr",
     "output_type": "stream",
     "text": [
      "/home/priyanshu/anaconda3/envs/gpu/lib/python3.6/site-packages/sklearn/ensemble/iforest.py:417: DeprecationWarning: threshold_ attribute is deprecated in 0.20 and will be removed in 0.22.\n",
      "  \" be removed in 0.22.\", DeprecationWarning)\n"
     ]
    },
    {
     "name": "stdout",
     "output_type": "stream",
     "text": [
      "Report=                precision    recall  f1-score   support\n",
      "\n",
      "         0.0       1.00      0.98      0.99    113060\n",
      "         1.0       0.16      1.00      0.27       440\n",
      "\n",
      "   micro avg       0.98      0.98      0.98    113500\n",
      "   macro avg       0.58      0.99      0.63    113500\n",
      "weighted avg       1.00      0.98      0.99    113500\n",
      "\n",
      "AUCROC=  0.9998345005869772\n",
      "F1=  0.27295285359801486\n",
      "Confusion matrix=  [[110716   2344]\n",
      " [     0    440]]\n"
     ]
    }
   ],
   "source": [
    "print('DEV')\n",
    "model_evaluate(ifor,X_dev,y_dev)"
   ]
  },
  {
   "cell_type": "code",
   "execution_count": 18,
   "metadata": {},
   "outputs": [
    {
     "name": "stdout",
     "output_type": "stream",
     "text": [
      "TEST\n"
     ]
    },
    {
     "name": "stderr",
     "output_type": "stream",
     "text": [
      "/home/priyanshu/anaconda3/envs/gpu/lib/python3.6/site-packages/sklearn/ensemble/iforest.py:417: DeprecationWarning: threshold_ attribute is deprecated in 0.20 and will be removed in 0.22.\n",
      "  \" be removed in 0.22.\", DeprecationWarning)\n"
     ]
    },
    {
     "name": "stdout",
     "output_type": "stream",
     "text": [
      "Report=                precision    recall  f1-score   support\n",
      "\n",
      "         0.0       1.00      0.98      0.99    113057\n",
      "         1.0       0.17      1.00      0.29       443\n",
      "\n",
      "   micro avg       0.98      0.98      0.98    113500\n",
      "   macro avg       0.58      0.99      0.64    113500\n",
      "weighted avg       1.00      0.98      0.99    113500\n",
      "\n",
      "AUCROC=  0.9997841836548579\n",
      "F1=  0.2862694300518135\n",
      "Confusion matrix=  [[110854   2203]\n",
      " [     1    442]]\n"
     ]
    }
   ],
   "source": [
    "print('TEST')\n",
    "model_evaluate(ifor,X_test,y_test)\n"
   ]
  }
 ],
 "metadata": {
  "kernelspec": {
   "display_name": "Python 3",
   "language": "python",
   "name": "python3"
  },
  "language_info": {
   "codemirror_mode": {
    "name": "ipython",
    "version": 3
   },
   "file_extension": ".py",
   "mimetype": "text/x-python",
   "name": "python",
   "nbconvert_exporter": "python",
   "pygments_lexer": "ipython3",
   "version": "3.6.8"
  }
 },
 "nbformat": 4,
 "nbformat_minor": 2
}
